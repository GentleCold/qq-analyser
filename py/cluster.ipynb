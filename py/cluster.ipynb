{
 "cells": [
  {
   "cell_type": "code",
   "execution_count": 201,
   "metadata": {
    "collapsed": true,
    "pycharm": {
     "name": "#%%\n"
    }
   },
   "outputs": [],
   "source": [
    "import pandas as pd\n",
    "import sqlite3\n",
    "import re\n",
    "import matplotlib.pyplot as plt\n",
    "import matplotlib as mpl\n",
    "import jieba\n",
    "from sklearn.cluster import KMeans\n",
    "from sklearn.feature_extraction.text import CountVectorizer, TfidfTransformer\n",
    "\n",
    "\n",
    "mpl.rcParams['font.family'] = 'SimHei'\n",
    "plt.rcParams['axes.unicode_minus'] = False\n",
    "\n",
    "conn = sqlite3.connect('../sqlite3/qq.db')\n",
    "cur = conn.cursor()\n",
    "\n",
    "cur.execute('select * from message')\n",
    "messages = pd.DataFrame(list(cur.fetchall()))"
   ]
  },
  {
   "cell_type": "markdown",
   "metadata": {},
   "source": [
    "分词"
   ]
  },
  {
   "cell_type": "code",
   "execution_count": 202,
   "metadata": {
    "pycharm": {
     "name": "#%%\n"
    }
   },
   "outputs": [],
   "source": [
    "words = []\n",
    "def handle(matched):\n",
    "    return ''\n",
    "for message in messages.values:\n",
    "    words.append(re.sub('\\[CQ.*?]', handle, message[5]))"
   ]
  },
  {
   "cell_type": "markdown",
   "metadata": {},
   "source": [
    "tf-idf"
   ]
  },
  {
   "cell_type": "code",
   "execution_count": 203,
   "metadata": {
    "pycharm": {
     "name": "#%%\n"
    }
   },
   "outputs": [
    {
     "name": "stdout",
     "output_type": "stream",
     "text": [
      "['00', '0点', '0点19', '0点开始', '10', '100', '1002647525', '101', '10瓶', '11', '114514', '11多发言捡到宝的机率更大', '12', '1225290784', '1251316161', '12多发言捡到宝的机率更大', '13', '13多发言捡到宝的机率更大', '14', '14多发言捡到宝的机率更大', '15', '15多发言捡到宝的机率更大', '16', '16多发言捡到宝的机率更大', '17', '17多发言捡到宝的机率更大', '18', '1803945637', '18多发言捡到宝的机率更大', '19', '1939495806', '19多发言捡到宝的机率更大', '1t', '20', '2077', '21', '211', '213531329', '22', '229分', '2313909270', '24', '24盒', '25', '2506984707', '255', '26', '2629557192', '2684319877', '27', '28', '29', '2983', '2983868301', '2984', '2985', '2995', '29元', '2件', '2多发言捡到宝的机率更大', '2瓶', '2袋', '30', '3000', '3002', '3060', '3068640860', '3151292466', '32', '34', '36', '38', '38分', '39', '3件', '415', '418', '423', '433', '436', '44', '446', '457', '461', '49', '49元', '500g', '516', '542', '59', '5d', '5ijyrbnz', '5元', '5多发言捡到宝的机率更大', '5袋', '617670339', '66', '661', '666', '69元', '6元', '6多发言捡到宝的机率更大', '70', '7多发言捡到宝的机率更大', '81', '83', '88', '8元', '8瓶', '90', '91', '912089894', '93', '98', '98元', '99元', '9元', '__init__', 'action', 'adapters', 'aenktbu鹅鸭杀有人吗', 'all', 'amp', 'an', 'and', 'api', 'app', 'app_fastapi', 'apscheduler', 'ar', 'are', 'args', 'article', 'as', 'ass', 'auth', 'auto', 'awa', 'az', 'b23', 'baidu', 'be', 'behind', 'beta', 'big', 'bilibili', 'blob', 'blog', 'book', 'bot', 'boy', 'bushi', 'by', 'call', 'can', 'cat', 'cd', 'celeste', 'cf', 'char', 'chat', 'chatgpt', 'check', 'chicken', 'cli', 'click', 'cn', 'code', 'collections', 'com', 'command', 'config', 'const', 'coupon', 'coupons', 'cover', 'cq', 'cqhttp', 'create', 'cscs181', 'csdn', 'csgo', 'cwd', 'cz0000', 'data', 'date', 'ddl什么时候女装', 'ddl的star能分我一半吗', 'deb', 'deck', 'details', 'dev', 'do', 'docs', 'doge', 'dpurl', 'echo', 'electron', 'else', 'emm', 'emmm', 'emmmm', 'en', 'false', 'fastapi', 'feed_ark', 'file', 'filter', 'findbook', 'fix', 'for', 'from', 'fuck', 'games', 'getcomponent', 'ghost', 'giant', 'girl', 'github', 'go', 'gocqhttp', 'goose', 'gpt', 'gta5', 'gta6', 'handle', 'have', 'hello', 'help', 'hhh', 'hhhhhh', 'homo', 'html', 'http', 'https', 'human', 'id', 'if', 'import', 'in', 'include', 'index', 'input', 'inside', 'install', 'int', 'is', 'ises', 'issues', 'it', 'java', 'jd', 'jpg', 'js', 'json', 'key', 'kwargs', 'let', 'lgc2333', 'lib', 'link', 'list', 'live', 'local', 'loli', 'magic', 'main', 'map', 'md', 'messiah', 'mingxuangame', 'mrs4s', 'mua', 'my', 'myqcloud', 'name', 'nb', 'need', 'net', 'new', 'new_cap', 'nn', 'no', 'nonebot', 'nonebot2', 'not', 'now', 'nude', 'null', 'num', 'of', 'off', 'oh6bciq', 'ok', 'okk', 'okkk', 'okok', 'ok了', 'one', 'onebot', 'oneclick', 'only', 'openai', 'org', 'ot', 'our', 'out', 'output', 'package', 'packages', 'pan', 'panda', 'paper', 'pdf', 'pid', 'pip', 'please', 'plugin', 'plugins', 'plus', 'png', 'port', 'preserve', 'price', 'primer', 'print', 'print_teacher', 'printf', 'process_iter', 'programripper', 'programs', 'prompt', 'protection', 'ps', 'ps5版', 'psutil', 'py', 'py2', 'python', 'python3', 'python310', 'py这个文件', 'py里面写上', 'py里面注释掉之后插件依旧没有关掉', 'qq', 'qs', 'rc', 'react', 'reference', 'render', 'return', 'rmzwk', 'roleid', 'root', 'run', 'sai', 'same', 'scanf', 'send_group_msg', 'shall', 'show', 'sign', 'sizeof', 'sk', 'so', 'soga', 'something', 'sorry', 'src', 'star', 'starcraft', 'starhearthunt', 'starred', 'start', 'staticmethod', 'status', 'stdio', 'steam', 'steamdb', 'steam萌新有什么不懂的问题先去自己找找答案', 'struct', 'stu', 'student', 'student_number', 'students', 'sudo默认密码就是你当前用户的密码', 'sum', 'taobao', 'tea', 'teacher', 'terminal', 'the', 'this', 'time', 'tjnb', 'tmd', 'to', 'tree', 'trillion', 'ts', 'tutorial', 'tv', 'type', 'typer', 'typescript', 't了', 'ui', 'unity', 'unstar', 'us', 'users', 'uu们', 'uu加速器', 'uvicorn', 'v11', 'v2', 'vd_source', 'vector', 'vertial', 'video', 'void', 'v我50', 'walle', 'was', 'wc', 'we', 'webui', 'will', 'win', 'with', 'woc', 'ws', 'www', 'xdm', 'xswl', 'xxx', 'yes', 'yhzu', 'you', '一时间估计无法看到你的消息', '一次两小时', '三金旗舰店', '上面有一个搜索框', '下一个', '不不不', '不买', '不会', '不会吧', '不会玩', '不可能', '不多', '不好玩', '不好说', '不对', '不懂', '不懂就问', '不是', '不是吧', '不然dos你', '不然呢', '不然咋样', '不玩', '不用', '不知道', '不知道该说什么', '不能', '不至于吧', '不行', '不要碰', '不过', '不过前面还有', '不错', '两个东西一起提交并付款', '个稿', '为什么', '为什么啊', '为啥', '为啥不直接电子水表', '主要是', '也不行', '也是', '也行', '买了', '亚洲最屌的城市', '人呢', '人数过多', '什么', '什么东西', '什么富哥', '什么意思', '什么游戏', '什么鬼', '什么鬼玩意', '今贝旗舰店', '从闵行校区坐地铁到曙建路下', '仓库', '他家线下一杯雷打不动卖5', '代餐奶昔天花板', '以前', '任选3件', '伊利旗舰店', '会变得不幸', '会掉', '伤害真高', '伪娘', '但是', '但是不多', '但是功能不能用', '但是就是', '低卡零糖椰子汁245ml', '低脂藜麦山药面120g', '你们gta5是哪个服务器', '你们公司叫啥', '你们在干嘛', '你们抢了我的黄侠老师', '你们说呢', '你写的哪个年代的vue', '你别急', '你原积分', '你发我', '你可以', '你在本群排名', '你女朋友真好看', '你好', '你对解释器是不是有些误解', '你小子', '你就在此地不要走动', '你已经为', '你已绑定', '你开了吗', '你把这行改成from', '你是不是放在fixupdate了', '你是小丑', '你是懂艺术的', '你是谁', '你玩啥', '你现在玩么', '你的qq暂不支持查看', '你的总积分', '你看', '你看看', '你第', '你群在聊什么啊', '你要吗', '你要知道', '你观察一下黑洞熔炉的标志是不是很熟悉', '你记错了', '你试试就知道了', '你说得对', '你还没有绑定', '你这', '你通关了吗', '佬们', '使用', '使用插件是直接放目录里面然后bot', '依托答辩', '便宜', '修同专业的其他专业任意选修课程', '借一部说话', '假的', '偶尔犯病', '兄弟', '兄弟们', '先给俺个小管理', '免费', '免费的', '全民超神', '全部', '公共数据库', '共计', '关掉', '关键是', '其次', '养好绿色', '再去一次', '再来点', '冲多了', '决定版', '冷知识', '凑单也加购物车1件', '凑单加购物车1件', '分手厨房', '别急', '别搞颜色或者人身攻击什么的', '到了第一个小镇子', '加我', '加油', '加购物车1件', '加速器', '卡了', '卧槽', '原来如此', '原神', '又一个前后端全桟大佬', '发错了', '发错群了', '取消', '可以', '可以了', '可以吗', '可以啊', '可以的', '可恶', '可爱捏', '各路大佬', '同问', '吐舌', '吓死我了', '含军训', '听听', '呃呃', '周三的情书', '味出道旗舰店', '味太浓了', '咋了', '哈人', '哈哈', '哈哈哈', '哈哈哈哈', '哈哈哈哈哈', '哈哈哈哈哈哈', '哈哈哈哈哈哈哈', '哈哈哈哈哈哈哈哈', '哈哈哈哈哈哈哈哈哈', '哎呀', '哎呦', '哦哟', '哦哦', '哦哦好的', '哦对', '哦豁', '哼哼', '啊哈', '啊啊啊啊啊', '啊对', '啊对对对', '啊这', '啥情况', '啥意思', '啥游戏', '啥玩意', '喜报', '喵喵', '嘻嘻', '嘿嘿', '噢噢', '四舍五入180不过分吧', '在画了在画了', '垃圾', '垃圾游戏', '多好', '多少', '多谢', '大佬', '大佬们', '大家好', '大概', '大表哥', '天猫超市包邮', '太烧了', '太难了', '夹一下', '奖励你随机积分', '奶奶滴', '好了', '好像', '好像是', '好吧', '好奇怪', '好好好', '好家伙', '好滴', '好滴谢谢', '好玩', '好的', '好的谢谢', '好耶', '好贵', '妈的', '官方技术交流群', '官网', '害怕', '家人们', '家庭共享', '富哥v我50', '对吧', '对啊', '对对对', '对的', '小cai能拉到其他群吗', '小ddl', '少女绘画中', '就可以了', '就是', '就自动出来的', '就行了', '就这个', '巫师3', '差不多', '布洛芬', '帐号', '干活了', '应该', '应该可以', '应该是', '建议', '开心', '彳亍', '很多兄弟私信黄猫找东西', '很好', '忘了', '快点', '怎么', '怎么了', '怎么办', '怎么回事', '怎么搞', '怎么改', '怎么说', '怎么说呢', '怎么都在写webui', '思考', '总签到', '恭喜你签到成功', '想啥呢', '想要', '感觉', '感谢', '懂了', '成功为', '我不信', '我不知道', '我也想', '我也是', '我也有', '我也觉得', '我去', '我和你色色', '我喜欢你', '我在想', '我头发梳高点172没问题吧', '我就是', '我想问一下', '我操', '我擦', '我教你', '我测', '我玩', '我玩过', '我的好友码', '我的评价是', '我看看', '我知道', '我记得', '我试了', '我试试', '我谢谢你', '我超', '我问一下', '我阳了', '我靠', '战神4', '所以', '所以不能修改', '打不开', '打卡', '找不到了', '找不到的再来群里问问大佬', '抽中了你', '拍2件', '拜拜', '拿王者和只狼比', '挺好的', '捞捞', '提取码', '搞明白了', '撤回', '改了', '救命', '无慈悲', '无所谓', '早上好', '是不是', '是吗', '是吧', '是呢', '是啊', '是啥', '是的', '是要做任务开启地图吗', '是这样的', '显卡', '晚安', '最最新捡漏商城', '有人吗', '有人玩muck吗', '有人玩僵尸毁灭工程吗', '有人玩吗', '有人玩脱逃者2吗', '有人玩英灵神殿吗', '有人联机杀戮尖塔吗', '有啊', '有没有一种可能', '有没有可能', '有道理', '有钱', '朋友们', '服了', '本月签到', '本次签到获得积分', '本群是steam游戏群', '本群积分龙虎榜', '来了', '来吧', '来呗', '来来来', '来自群管理员', '查看积分', '桃李食品旗舰店', '棍棍', '森林', '森林之子', '欢迎', '欢迎加入', '正常', '正确的', '死了', '每天只能签到一次计算积分', '比c', '比如我就不会', '比如找耳机', '求pubg的高玩带', '求生之路2三缺一', '没了', '没事', '没事没事', '没人玩', '没办法', '没必要', '没意思', '没救了', '没有', '没有吧', '没玩过', '没用', '没看懂', '没记错的话', '没钱', '没问题', '泰拉瑞亚', '消逝的光芒', '滚去学习', '点我', '点过', '無敵の美秒女爾金', '然后', '然后再单独退款凑单商品', '牙刷2支', '牛啊', '牛逼', '物理化学一人', '特殊时期', '独立包装', '猫人', '现在你的积分是', '现在共有积分', '现货', '用户', '由于你聊天时被系统随机抽奖系统', '男的', '百度', '的哦', '的确', '的编辑', '直接', '直接点开下面蓝色链接', '直接点我', '看不懂', '看到了', '看看', '看看下面', '看见没有', '真寻立大功', '真的', '真的假的', '真的吗', '确信', '确实', '离谱', '积分', '积分排行', '积极发言', '稍等', '穿的显高点', '立了', '笑死', '笑死了', '笑死我了', '等一下', '等下', '等我给你画一幅', '等等', '签到', '算了', '算了吧', '管理', '素质有待降低', '细说', '给我积分', '维护良好的聊天环境与开黑环境', '美团每日补贴', '羡慕', '群主', '群友攻击性真强', '群里消杀', '翻译', '翻译器是个好东西', '老婆', '老实说', '而且', '耳机', '聊天好难', '聊游戏', '能啊', '英语一人', '荒野大镖客2', '虽然但是', '行吧', '表情', '让一让啊', '设计主存地址格式', '设计规范', '评论里发id', '话说', '语音', '说实话', '诶呦', '请务必仔细阅读群置顶公告哦', '请大家平日文明发言', '请期待后续版本', '请畅所欲言', '请私聊使用', '请问一下', '谁有办法啊', '谢谢', '谢谢你', '谢谢啦', '谢谢大佬', '谢谢大佬们', '谢谢谢谢', '踢了', '蹲波steam好友', '转发多条消息', '输入', '运费', '还好', '还是不行', '还有', '还没打开', '还行吧', '这个', '这个吗', '这个好', '这么说', '这是什么', '这是啥', '这样吗', '这正是我的论文需要的', '这里是星际拓荒讨论群', '进行安装', '逆天', '那个', '那你加油', '那没事了', '重复签到无积分', '链接', '错误的', '问一下', '闲聊群数量比我账号数都多', '队长', '阳了', '阿这', '阿里健康大药房', '除非你发给我看', '随便吧', '难受', '难蚌', '雀食', '领券', '领券加车1件', '领券后', '飞机', '饥荒', '饿了', '香港还是北美', '高跟鞋增加5厘米没问题吧', '鬼脸', '鹅鸭杀', '鹅鸭杀房间hy16jtn', '麻了']\n"
     ]
    },
    {
     "name": "stderr",
     "output_type": "stream",
     "text": [
      "D:\\Anaconda3\\lib\\site-packages\\sklearn\\utils\\deprecation.py:87: FutureWarning: Function get_feature_names is deprecated; get_feature_names is deprecated in 1.0 and will be removed in 1.2. Please use get_feature_names_out instead.\n",
      "  warnings.warn(msg, category=FutureWarning)\n"
     ]
    }
   ],
   "source": [
    "# 1000 个特征\n",
    "vectorizer = CountVectorizer(max_features=1000)\n",
    "tf_idf_transformer = TfidfTransformer()\n",
    "tfidf = tf_idf_transformer.fit_transform(vectorizer.fit_transform(words))\n",
    "print(vectorizer.get_feature_names())"
   ]
  },
  {
   "cell_type": "markdown",
   "metadata": {
    "pycharm": {
     "name": "#%% md\n"
    }
   },
   "source": [
    "K-means 聚类"
   ]
  },
  {
   "cell_type": "code",
   "execution_count": 204,
   "outputs": [
    {
     "name": "stdout",
     "output_type": "stream",
     "text": [
      "k = 2\n",
      "k = 3\n",
      "k = 4\n",
      "k = 5\n",
      "k = 6\n",
      "k = 7\n",
      "k = 8\n",
      "k = 9\n",
      "k = 10\n",
      "k = 11\n",
      "k = 12\n",
      "k = 13\n",
      "k = 14\n",
      "k = 15\n",
      "k = 16\n",
      "k = 17\n",
      "k = 18\n",
      "k = 19\n",
      "k = 20\n",
      "k = 21\n",
      "k = 22\n",
      "k = 23\n",
      "k = 24\n",
      "k = 25\n",
      "k = 26\n",
      "k = 27\n",
      "k = 28\n",
      "k = 29\n",
      "k = 30\n",
      "k = 31\n",
      "k = 32\n",
      "k = 33\n",
      "k = 34\n",
      "k = 35\n",
      "k = 36\n",
      "k = 37\n",
      "k = 38\n",
      "k = 39\n",
      "k = 40\n",
      "k = 41\n",
      "k = 42\n",
      "k = 43\n",
      "k = 44\n",
      "k = 45\n",
      "k = 46\n",
      "k = 47\n",
      "k = 48\n",
      "k = 49\n"
     ]
    },
    {
     "data": {
      "text/plain": "<Figure size 432x288 with 1 Axes>",
      "image/png": "[encoded data removed]"
     },
     "metadata": {
      "needs_background": "light"
     },
     "output_type": "display_data"
    }
   ],
   "source": [
    "def test_k():\n",
    "    ks = []\n",
    "    scores = []\n",
    "    for i in range(2, 50):\n",
    "        print(f'k = {i}')\n",
    "        kmean = KMeans(n_clusters=i, init='k-means++')\n",
    "        kmean.fit(tfidf)\n",
    "        km.predict(tfidf)\n",
    "        s = -km.score(tfidf) / len(words)\n",
    "        scores.append(s)\n",
    "        ks.append(i)\n",
    "\n",
    "    plt.plot(ks, scores, label=\"error\", color=\"red\", linewidth=1)\n",
    "    plt.xlabel(\"n_features\") # K值\n",
    "    plt.ylabel(\"error\")\n",
    "    plt.legend()\n",
    "    plt.show()\n",
    "# test_k()"
   ],
   "metadata": {
    "collapsed": false,
    "pycharm": {
     "name": "#%%\n"
    }
   }
  },
  {
   "cell_type": "code",
   "execution_count": 207,
   "metadata": {
    "pycharm": {
     "name": "#%%\n"
    }
   },
   "outputs": [
    {
     "name": "stdout",
     "output_type": "stream",
     "text": [
      "0.10273521746561252\n"
     ]
    },
    {
     "data": {
      "text/plain": "                0        1           2           3  4  \\\n1280  -1427947998    15384   745864592  3187485951  0   \n14763   137455757  1353057    45855966  2474133695  0   \n28179  1013664977  1356257    45855966  2932147372  0   \n20873  -281904885   178922  1025084354  1169906528  0   \n20308  1112280516   178654  1025084354   348366534  0   \n...           ...      ...         ...         ... ..   \n17255  -567776993  2107869   768887710  3323077879  0   \n17252   965755928  2107867   768887710  1064988363  0   \n17251  1318548622  2107866   768887710  2761313142  0   \n17250  -677501644  2107865   768887710  3323077879  0   \n27424  1240477370  2109868   768887710  2761313142  0   \n\n                                                       5           6  cluster  \n1280                                                  是的  1670777772       24  \n14763  [CQ:reply,id=2134267931][CQ:at,qq=598403547] [...  1671366869       24  \n28179                                                 是的  1671519978       24  \n20873                                                 是的  1671443032       24  \n20308                                        是的，共有的就不会写了  1671440850       24  \n...                                                  ...         ...      ...  \n17255  [CQ:reply,id=-1456514679][CQ:at,qq=2761313142]...  1671425406        0  \n17252                                    /follow nonebot  1671425400        0  \n17251  用户 Well2333 starred 仓库 nonebot/nonebot2 (共计 29...  1671425398        0  \n17250                                   nonebot/nonebot2  1671425396        0  \n27424  用户 yzyyz1387 starred 仓库 nonebot/nonebot2 (共计 3...  1671513392        0  \n\n[31258 rows x 8 columns]",
      "text/html": "<div>\n<style scoped>\n    .dataframe tbody tr th:only-of-type {\n        vertical-align: middle;\n    }\n\n    .dataframe tbody tr th {\n        vertical-align: top;\n    }\n\n    .dataframe thead th {\n        text-align: right;\n    }\n</style>\n<table border=\"1\" class=\"dataframe\">\n  <thead>\n    <tr style=\"text-align: right;\">\n      <th></th>\n      <th>0</th>\n      <th>1</th>\n      <th>2</th>\n      <th>3</th>\n      <th>4</th>\n      <th>5</th>\n      <th>6</th>\n      <th>cluster</th>\n    </tr>\n  </thead>\n  <tbody>\n    <tr>\n      <th>1280</th>\n      <td>-1427947998</td>\n      <td>15384</td>\n      <td>745864592</td>\n      <td>3187485951</td>\n      <td>0</td>\n      <td>是的</td>\n      <td>1670777772</td>\n      <td>24</td>\n    </tr>\n    <tr>\n      <th>14763</th>\n      <td>137455757</td>\n      <td>1353057</td>\n      <td>45855966</td>\n      <td>2474133695</td>\n      <td>0</td>\n      <td>[CQ:reply,id=2134267931][CQ:at,qq=598403547] [...</td>\n      <td>1671366869</td>\n      <td>24</td>\n    </tr>\n    <tr>\n      <th>28179</th>\n      <td>1013664977</td>\n      <td>1356257</td>\n      <td>45855966</td>\n      <td>2932147372</td>\n      <td>0</td>\n      <td>是的</td>\n      <td>1671519978</td>\n      <td>24</td>\n    </tr>\n    <tr>\n      <th>20873</th>\n      <td>-281904885</td>\n      <td>178922</td>\n      <td>1025084354</td>\n      <td>1169906528</td>\n      <td>0</td>\n      <td>是的</td>\n      <td>1671443032</td>\n      <td>24</td>\n    </tr>\n    <tr>\n      <th>20308</th>\n      <td>1112280516</td>\n      <td>178654</td>\n      <td>1025084354</td>\n      <td>348366534</td>\n      <td>0</td>\n      <td>是的，共有的就不会写了</td>\n      <td>1671440850</td>\n      <td>24</td>\n    </tr>\n    <tr>\n      <th>...</th>\n      <td>...</td>\n      <td>...</td>\n      <td>...</td>\n      <td>...</td>\n      <td>...</td>\n      <td>...</td>\n      <td>...</td>\n      <td>...</td>\n    </tr>\n    <tr>\n      <th>17255</th>\n      <td>-567776993</td>\n      <td>2107869</td>\n      <td>768887710</td>\n      <td>3323077879</td>\n      <td>0</td>\n      <td>[CQ:reply,id=-1456514679][CQ:at,qq=2761313142]...</td>\n      <td>1671425406</td>\n      <td>0</td>\n    </tr>\n    <tr>\n      <th>17252</th>\n      <td>965755928</td>\n      <td>2107867</td>\n      <td>768887710</td>\n      <td>1064988363</td>\n      <td>0</td>\n      <td>/follow nonebot</td>\n      <td>1671425400</td>\n      <td>0</td>\n    </tr>\n    <tr>\n      <th>17251</th>\n      <td>1318548622</td>\n      <td>2107866</td>\n      <td>768887710</td>\n      <td>2761313142</td>\n      <td>0</td>\n      <td>用户 Well2333 starred 仓库 nonebot/nonebot2 (共计 29...</td>\n      <td>1671425398</td>\n      <td>0</td>\n    </tr>\n    <tr>\n      <th>17250</th>\n      <td>-677501644</td>\n      <td>2107865</td>\n      <td>768887710</td>\n      <td>3323077879</td>\n      <td>0</td>\n      <td>nonebot/nonebot2</td>\n      <td>1671425396</td>\n      <td>0</td>\n    </tr>\n    <tr>\n      <th>27424</th>\n      <td>1240477370</td>\n      <td>2109868</td>\n      <td>768887710</td>\n      <td>2761313142</td>\n      <td>0</td>\n      <td>用户 yzyyz1387 starred 仓库 nonebot/nonebot2 (共计 3...</td>\n      <td>1671513392</td>\n      <td>0</td>\n    </tr>\n  </tbody>\n</table>\n<p>31258 rows × 8 columns</p>\n</div>"
     },
     "execution_count": 207,
     "metadata": {},
     "output_type": "execute_result"
    }
   ],
   "source": [
    "km = KMeans(n_clusters=25, init='k-means++')\n",
    "km.fit(tfidf)\n",
    "km.predict(tfidf)\n",
    "score = -km.score(tfidf) / len(words)\n",
    "print(score)\n",
    "messages['cluster'] = km.labels_\n",
    "messages.sort_values(by='cluster', ascending=False)"
   ]
  }
 ],
 "metadata": {
  "hide_input": false,
  "kernelspec": {
   "display_name": "Python 3 (ipykernel)",
   "language": "python",
   "name": "python3"
  },
  "language_info": {
   "codemirror_mode": {
    "name": "ipython",
    "version": 3
   },
   "file_extension": ".py",
   "mimetype": "text/x-python",
   "name": "python",
   "nbconvert_exporter": "python",
   "pygments_lexer": "ipython3",
   "version": "3.9.12"
  }
 },
 "nbformat": 4,
 "nbformat_minor": 1
}