{
 "cells": [
  {
   "cell_type": "code",
   "execution_count": 9,
   "metadata": {
    "collapsed": true,
    "pycharm": {
     "name": "#%%\n"
    }
   },
   "outputs": [],
   "source": [
    "import pandas as pd\n",
    "import sqlite3\n",
    "import time\n",
    "import jieba\n",
    "import re\n",
    "from wordcloud import WordCloud\n",
    "import matplotlib.pyplot as plt\n",
    "import matplotlib as mpl\n",
    "\n",
    "\n",
    "mpl.rcParams['font.family'] = 'SimHei'\n",
    "plt.rcParams['axes.unicode_minus'] = False\n",
    "\n",
    "conn = sqlite3.connect('../sqlite3/qq.db')\n",
    "cur = conn.cursor()\n",
    "\n",
    "cur.execute('select * from groupInfo')\n",
    "groups = pd.DataFrame(list(cur.fetchall()))\n",
    "cur.execute('select * from member')\n",
    "members = pd.DataFrame(list(cur.fetchall()))\n",
    "cur.execute('select * from message')\n",
    "messages = pd.DataFrame(list(cur.fetchall()))"
   ]
  },
  {
   "cell_type": "markdown",
   "source": [
    "分词"
   ],
   "metadata": {
    "collapsed": false
   }
  },
  {
   "cell_type": "code",
   "execution_count": 10,
   "outputs": [],
   "source": [
    "text = ''\n",
    "words = []\n",
    "def handle(matched):\n",
    "    return ''\n",
    "for message in messages.values:\n",
    "    text += re.sub('\\[CQ.*?\\]', handle, message[5])\n",
    "segs = jieba.lcut(text)\n",
    "for seg in segs:\n",
    "    if len(seg) > 1:\n",
    "        words.append(seg)\n",
    "        if len(words) > 1000:\n",
    "            break"
   ],
   "metadata": {
    "collapsed": false,
    "pycharm": {
     "name": "#%%\n"
    }
   }
  },
  {
   "cell_type": "markdown",
   "source": [
    "Kmeans 聚类"
   ],
   "metadata": {
    "collapsed": false
   }
  },
  {
   "cell_type": "code",
   "execution_count": 13,
   "outputs": [
    {
     "name": "stdout",
     "output_type": "stream",
     "text": [
      "['199', '2077', '2k', '30', '3000', '3060', '40', '4eondpu', '81', '900', '91', '93', '__', 'cf', 'click', 'com', 'cs', 'cyberpunkdashabei', 'cz0000', 'dlc', 'https', 'invoke', 'lfksd3fgjwd', 'lol', 'mgao', 'mk47', 'pc', 'peacebird', 'qq', 'steam', 'taobao', 'ui', 'unity', 'v3000', 'water', 'websocket', 'yes', 'zbc', 'zzz', '一个', '一乐', '一些', '一份', '一分钱', '一千', '一块', '一家亲', '一年', '一时间', '一次', '一款', '一段', '一点', '一直', '一笔', '一群', '一般', '一起', '一辆车', '三个', '三百多', '上班', '上身', '下棋', '不买', '不了', '不值', '不列', '不到', '不大', '不是', '不玩', '不用', '不能', '不要', '不过', '不错', '不饮盗泉', '两个', '个人', '中国', '中文', '为什么', '主机', '主要', '之一', '之前', '买不起', '于是', '亏死', '亲爹', '人们', '人数', '人民币', '人类学', '人血虐', '人身攻击', '什么', '什莫', '他们', '代码', '以为', '以前', '任选', '传说', '伤害', '估计', '位置', '你们', '便宜', '促入', '俄意法', '俄罗斯', '俄英', '俄语', '保持', '修复', '倒数', '值得', '元起', '全世界', '全买', '全了', '全是', '全没玩', '全部', '关键', '兴趣', '其实', '兼职', '几张', '出国', '出校', '出过', '刀刃', '分开', '刚出', '初中', '别人', '别搞', '别的', '到底', '制版', '刷新率', '前提', '办法', '加到', '区别', '十份', '十多个', '单机游戏', '单词', '南岳', '压力', '压岁钱', '原因', '去过', '反向', '发现', '发言', '只图', '只是', '只有', '只玩个', '只要', '可以', '可能', '合集', '同学', '名草', '后遗症', '后面', '君子', '听懂', '听说', '启动', '启动器', '咋办', '哈哈哈', '哈哈哈哈', '哈拉', '哪级', '喜提', '喜欢', '嘻嘻', '四个', '回去', '因为', '固态', '国人', '国区', '土区', '在意', '地图', '地方', '声音', '外套', '多少', '多真', '多能', '大一考', '大佬', '大家', '大部分', '太平', '头像', '夹克', '奇怪', '奖励', '好像', '好好看', '好家伙', '好看', '字母', '学习', '学会', '学俩', '学费', '学过', '宁愿', '它们', '完美', '官方', '实在', '实验室', '对外汉语', '对应', '尊重', '小号', '小学', '小慧', '小黑子', '少苏卡', '就够', '就是', '就行', '居然', '屏幕', '崛起', '工装', '巫师', '差个', '已经', '带带', '带鱼', '帮忙', '平日', '应该', '康乃馨', '延迟', '建议', '开协程', '开黑', '弟弟', '当过', '形态', '影响', '很多', '很大', '微信', '德语', '必须', '忘光', '怀疑', '怎么', '怎么回事', '怎么弄', '怎么样', '性能', '恶心', '情侣', '情怀', '想想', '意大利', '意大利语', '意思', '意法', '感冒', '感染', '感觉', '愿意', '慕了', '慢慢', '成本', '我们', '我学', '我要', '我连个', '我长', '或者', '所以', '手游', '打工', '打怪', '打折', '打游戏', '执行', '找兰', '技术', '报道', '抽中', '抽奖', '拜拜', '拼读', '拼音', '指定', '指望', '挑人', '接受', '接近', '搞搞', '搞混', '擦拉黑', '收集', '教学', '数量', '文明', '文科生', '新人', '方便', '旗舰店', '无法', '日本', '时候', '明天', '明年', '是不是', '显示器', '普通', '曲屏', '更大', '最近', '最难', '有主', '有些', '有人', '有时候', '有没有', '有点', '朋克', '朋友', '期待', '木板', '本体', '本群', '机子', '机率', '来个', '来讲', '极高', '桌上', '桌搭', '棒球', '款式', '正常', '步枪', '毁灭', '母鸡', '毕竟', '民众', '汉语', '没什么', '没关系', '没劲', '没意思', '没有', '没花', '法则', '波兰', '注册', '消息', '混乱', '混掉', '游戏', '火线', '照样', '熬夜', '牛仔', '狂干', '狐狸', '狙击枪', '狮子', '王者', '玩吧', '玩家', '玩游戏', '玩火', '环境', '现在', '理科生', '瓦片', '生存', '用到', '用接', '甩手', '由于', '男女', '界面', '留学', '略过', '白色', '百搭', '的话', '皮肤', '直接', '直连', '相同', '看到', '看看', '看着', '真人', '真他妈', '真的', '着急', '睡觉', '知道', '码器', '研究生', '硬盘', '确实', '礼包', '社区', '祖宗', '离谱', '秋促', '积分', '积极', '穿越', '穿透', '突然', '突脸', '笔记本电脑', '第二个', '等待时间', '等等', '答案', '简单', '简短', '系列', '系统', '组里', '细节', '经典', '经常', '经济', '经验', '维护', '罢了', '羊羔', '群里', '翻个', '老外', '老师', '老是', '老马', '而且', '而已', '聊天', '能加', '能学', '腾讯', '自己', '良好', '花就行', '花钱', '英国人', '英语', '英雄', '萌新有', '蓝佬是', '蔡鹏', '虚幻', '蠢驴', '行为', '衡阳', '裙子', '西班牙语', '要出', '见到', '视角', '视频', '记得', '证书', '诡辩', '该死', '语法', '语言', '说不定', '说法', '请问', '读音', '谢谢', '账号', '赚钱', '赛博', '赶着', '超多', '身体', '转战', '轮流', '轻重', '输进去', '辛苦', '过全', '过多', '还好', '还是', '还有', '还要', '这个', '这大', '这是', '这条', '这样的话', '这点', '这种', '这赛', '这边', '进不去', '退出', '退游前', '适合', '选二学', '逼人', '遣返', '那个', '那么', '那枪', '那种', '邮箱', '配置', '重启', '重要', '重音', '问问', '问题', '阿根廷', '随机', '隔壁', '难分', '难受', '难度', '露出', '非常', '韩国', '韩语', '音标', '音节', '颜色', '额度', '风险', '首发', '马桶', '验证', '骨折', '高不些', '高跟鞋', '高颜', '鸡脚', '鸭鹅杀', '麻烦', '黄油']\n"
     ]
    },
    {
     "name": "stderr",
     "output_type": "stream",
     "text": [
      "D:\\Anaconda3\\lib\\site-packages\\sklearn\\utils\\deprecation.py:87: FutureWarning: Function get_feature_names is deprecated; get_feature_names is deprecated in 1.0 and will be removed in 1.2. Please use get_feature_names_out instead.\n",
      "  warnings.warn(msg, category=FutureWarning)\n"
     ]
    }
   ],
   "source": [
    "from sklearn.feature_extraction.text import CountVectorizer, TfidfTransformer\n",
    "\n",
    "# 该类会将文本中的词语转换为词频矩阵，矩阵元素a[i][j] 表示j词在i类文本下的词频\n",
    "vectorizer = CountVectorizer(max_features=20000)\n",
    "# 该类会统计每个词语的tf-idf权值\n",
    "tf_idf_transformer = TfidfTransformer()\n",
    "# 将文本转为词频矩阵并计算tf-idf\n",
    "tfidf = tf_idf_transformer.fit_transform(vectorizer.fit_transform(words))\n",
    "# 获取词袋模型中的所有词语\n",
    "tfidf_matrix = tfidf.toarray()\n",
    "# 获取词袋模型中的所有词语\n",
    "word = vectorizer.get_feature_names()\n",
    "print(word)"
   ],
   "metadata": {
    "collapsed": false,
    "pycharm": {
     "name": "#%%\n"
    }
   }
  }
 ],
 "metadata": {
  "kernelspec": {
   "display_name": "Python 3",
   "language": "python",
   "name": "python3"
  },
  "language_info": {
   "codemirror_mode": {
    "name": "ipython",
    "version": 2
   },
   "file_extension": ".py",
   "mimetype": "text/x-python",
   "name": "python",
   "nbconvert_exporter": "python",
   "pygments_lexer": "ipython2",
   "version": "2.7.6"
  }
 },
 "nbformat": 4,
 "nbformat_minor": 0
}