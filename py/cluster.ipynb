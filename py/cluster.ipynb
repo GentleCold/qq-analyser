{
 "cells": [
  {
   "cell_type": "code",
   "execution_count": 1,
   "metadata": {
    "collapsed": true,
    "pycharm": {
     "name": "#%%\n"
    }
   },
   "outputs": [],
   "source": [
    "import pandas as pd\n",
    "import sqlite3\n",
    "import re\n",
    "import matplotlib.pyplot as plt\n",
    "import matplotlib as mpl\n",
    "import jieba\n",
    "from sklearn.cluster import KMeans\n",
    "from sklearn.feature_extraction.text import CountVectorizer, TfidfTransformer\n",
    "\n",
    "\n",
    "mpl.rcParams['font.family'] = 'SimHei'\n",
    "plt.rcParams['axes.unicode_minus'] = False\n",
    "\n",
    "conn = sqlite3.connect('../sqlite3/qq.db')\n",
    "cur = conn.cursor()\n",
    "\n",
    "cur.execute('select * from message')\n",
    "messages = pd.DataFrame(list(cur.fetchall()))\n",
    "cur.execute('select * from member')\n",
    "members = pd.DataFrame(list(cur.fetchall()))"
   ]
  },
  {
   "cell_type": "markdown",
   "metadata": {},
   "source": [
    "分词"
   ]
  },
  {
   "cell_type": "code",
   "execution_count": 2,
   "metadata": {
    "pycharm": {
     "name": "#%%\n"
    }
   },
   "outputs": [],
   "source": [
    "words = []\n",
    "def handle(matched):\n",
    "    return ''\n",
    "for message in messages.values:\n",
    "    words.append(re.sub('\\[CQ.*?]', handle, message[5]))"
   ]
  },
  {
   "cell_type": "markdown",
   "metadata": {},
   "source": [
    "tf-idf"
   ]
  },
  {
   "cell_type": "code",
   "execution_count": 3,
   "metadata": {
    "pycharm": {
     "name": "#%%\n"
    }
   },
   "outputs": [
    {
     "name": "stdout",
     "output_type": "stream",
     "text": [
      "['00', '0点', '0点19', '0点开始', '10', '100', '1002647525', '101', '10瓶', '11', '114514', '11多发言捡到宝的机率更大', '12', '1225290784', '1251316161', '12多发言捡到宝的机率更大', '13', '13多发言捡到宝的机率更大', '14', '14多发言捡到宝的机率更大', '15', '15多发言捡到宝的机率更大', '16', '16多发言捡到宝的机率更大', '17', '17多发言捡到宝的机率更大', '18', '1803945637', '18多发言捡到宝的机率更大', '19', '1939495806', '19多发言捡到宝的机率更大', '1t', '20', '2077', '21', '211', '213531329', '22', '229分', '2313909270', '24', '24盒', '25', '2506984707', '255', '26', '2629557192', '2684319877', '27', '28', '29', '2983', '2983868301', '2984', '2985', '2995', '29元', '2件', '2多发言捡到宝的机率更大', '2瓶', '2袋', '30', '3000', '3002', '3060', '3068640860', '3151292466', '32', '34', '36', '38', '38分', '39', '3件', '415', '418', '423', '433', '436', '44', '446', '457', '461', '49', '49元', '500g', '516', '542', '59', '5d', '5ijyrbnz', '5元', '5多发言捡到宝的机率更大', '5袋', '617670339', '66', '661', '666', '69元', '6元', '6多发言捡到宝的机率更大', '70', '7多发言捡到宝的机率更大', '81', '83', '88', '8元', '8瓶', '90', '91', '912089894', '93', '98', '98元', '99元', '9元', '__init__', 'action', 'adapters', 'aenktbu鹅鸭杀有人吗', 'all', 'amp', 'an', 'and', 'api', 'app', 'app_fastapi', 'apscheduler', 'ar', 'are', 'args', 'article', 'as', 'ass', 'auth', 'auto', 'awa', 'az', 'b23', 'baidu', 'be', 'behind', 'beta', 'big', 'bilibili', 'blob', 'blog', 'book', 'bot', 'boy', 'bushi', 'by', 'call', 'can', 'cat', 'cd', 'celeste', 'cf', 'char', 'chat', 'chatgpt', 'check', 'chicken', 'cli', 'click', 'cn', 'code', 'collections', 'com', 'command', 'config', 'const', 'coupon', 'coupons', 'cover', 'cq', 'cqhttp', 'create', 'cscs181', 'csdn', 'csgo', 'cwd', 'cz0000', 'data', 'date', 'ddl什么时候女装', 'ddl的star能分我一半吗', 'deb', 'deck', 'details', 'dev', 'dlc', 'do', 'docs', 'doge', 'dpurl', 'echo', 'electron', 'else', 'emm', 'emmm', 'emmmm', 'en', 'false', 'fastapi', 'feed_ark', 'file', 'filter', 'findbook', 'fix', 'for', 'from', 'fuck', 'games', 'getcomponent', 'ghost', 'giant', 'girl', 'github', 'go', 'gocqhttp', 'goose', 'gpt', 'gta5', 'gta6', 'handle', 'have', 'hello', 'help', 'hhh', 'hhhhhh', 'homo', 'html', 'http', 'https', 'human', 'id', 'if', 'import', 'in', 'include', 'index', 'input', 'inside', 'install', 'int', 'is', 'ises', 'issues', 'it', 'java', 'jd', 'jpg', 'js', 'json', 'key', 'kwargs', 'let', 'lgc2333', 'lib', 'link', 'list', 'live', 'local', 'loli', 'magic', 'main', 'map', 'md', 'messiah', 'mingxuangame', 'mrs4s', 'mua', 'my', 'myqcloud', 'name', 'nb', 'need', 'net', 'new', 'new_cap', 'nn', 'no', 'nonebot', 'nonebot2', 'nonono', 'not', 'now', 'nude', 'null', 'num', 'of', 'off', 'oh6bciq', 'ok', 'okk', 'okkk', 'okok', 'ok了', 'one', 'onebot', 'oneclick', 'only', 'openai', 'org', 'ot', 'our', 'out', 'output', 'package', 'packages', 'pan', 'panda', 'paper', 'pdf', 'pid', 'pip', 'please', 'plugin', 'plugins', 'plus', 'png', 'port', 'preserve', 'price', 'primer', 'print', 'print_teacher', 'printf', 'process_iter', 'programripper', 'programs', 'prompt', 'protection', 'ps', 'ps5版', 'psutil', 'py', 'py2', 'python', 'python3', 'python310', 'py这个文件', 'py里面写上', 'qq', 'qq小世界', 'rc', 'react', 'reference', 'render', 'return', 'rmzwk', 'roleid', 'root', 'run', 'sai', 'same', 'scanf', 'send_group_msg', 'shall', 'show', 'sign', 'sizeof', 'sk', 'so', 'soga', 'star', 'starcraft', 'starhearthunt', 'starred', 'status', 'stdio', 'steam', 'steam萌新有什么不懂的问题先去自己找找答案', 'struct', 'stu', 'student', 'student_number', 'students', 'sudo默认密码就是你当前用户的密码', 'sum', 'taobao', 'tea', 'teacher', 'terminal', 'the', 'this', 'time', 'tjnb', 'tmd', 'to', 'tree', 'trillion', 'ts', 'tutorial', 'tv', 'type', 'typer', 'typescript', 't了', 'ui', 'unity', 'unstar', 'us', 'users', 'uu们', 'uu加速器', 'uvicorn', 'v11', 'v2', 'vd_source', 'vector', 'vertial', 'video', 'void', 'v我50', 'walle', 'was', 'wc', 'we', 'webui', 'will', 'win', 'with', 'woc', 'world', 'ws', 'www', 'xdm', 'xswl', 'xxx', 'yes', 'yhzu', 'you', '一时间估计无法看到你的消息', '一次两小时', '三金旗舰店', '上面有一个搜索框', '下一个', '不不不', '不买', '不会', '不会吧', '不会玩', '不可能', '不多', '不好玩', '不好说', '不对', '不懂', '不懂就问', '不是', '不是吧', '不然dos你', '不然呢', '不然咋样', '不玩', '不用', '不知道', '不知道该说什么', '不能', '不至于吧', '不行', '不要碰', '不过', '不过前面还有', '不错', '两个东西一起提交并付款', '个稿', '为了日批', '为什么', '为什么啊', '为啥', '为啥不直接电子水表', '主要是', '也不行', '也是', '也行', '买了', '亚洲最屌的城市', '人呢', '人数过多', '什么', '什么东西', '什么富哥', '什么意思', '什么游戏', '什么鬼', '什么鬼玩意', '今贝旗舰店', '从闵行校区坐地铁到曙建路下', '仓库', '他家线下一杯雷打不动卖5', '代餐奶昔天花板', '以前', '任选3件', '伊利旗舰店', '会变得不幸', '会掉', '伤害真高', '伪娘', '但是', '但是不多', '但是功能不能用', '但是就是', '低卡零糖椰子汁245ml', '低脂藜麦山药面120g', '低调佬是真的牛', '你们gta5是哪个服务器', '你们公司叫啥', '你们在干嘛', '你们抢了我的黄侠老师', '你们说呢', '你写的哪个年代的vue', '你别急', '你原积分', '你发我', '你可以', '你在本群排名', '你女朋友真好看', '你好', '你对解释器是不是有些误解', '你小子', '你就在此地不要走动', '你已经为', '你已绑定', '你开了吗', '你把这行改成from', '你是不是放在fixupdate了', '你是小丑', '你是懂艺术的', '你是谁', '你玩啥', '你现在玩么', '你的qq暂不支持查看', '你的总积分', '你看', '你看看', '你第', '你群在聊什么啊', '你要吗', '你要知道', '你观察一下黑洞熔炉的标志是不是很熟悉', '你记错了', '你试试就知道了', '你说得对', '你还没有绑定', '你这', '你通关了吗', '佬们', '使用', '使用插件是直接放目录里面然后bot', '依托答辩', '便宜', '修同专业的其他专业任意选修课程', '借一部说话', '假的', '偶尔犯病', '兄弟', '兄弟们', '先给俺个小管理', '免费', '免费的', '全民超神', '全部', '公共数据库', '共计', '关掉', '关键是', '其次', '养好绿色', '再去一次', '再来点', '冲到一半疲软', '冷知识', '凑单也加购物车1件', '凑单加购物车1件', '分手厨房', '别急', '别搞颜色或者人身攻击什么的', '到了第一个小镇子', '加我', '加油', '加购物车1件', '加速器', '卡了', '卧槽', '原来如此', '原神', '又一个前后端全桟大佬', '发错了', '发错群了', '取消', '可以', '可以了', '可以吗', '可以啊', '可以的', '可恶', '可爱捏', '各路大佬', '同问', '吐舌', '吓死我了', '含军训', '听听', '呃呃', '周三的情书', '味出道旗舰店', '味太浓了', '咋了', '哈人', '哈哈', '哈哈哈', '哈哈哈哈', '哈哈哈哈哈', '哈哈哈哈哈哈', '哈哈哈哈哈哈哈', '哈哈哈哈哈哈哈哈', '哈哈哈哈哈哈哈哈哈', '哎呀', '哎呦', '哦哟', '哦哦', '哦哦好的', '哦对', '哦豁', '哼哼', '啊哈', '啊啊啊啊啊', '啊对', '啊对对对', '啊这', '啥情况', '啥意思', '啥游戏', '啥玩意', '喜报', '喵喵', '嘻嘻', '嘿嘿', '噢噢', '四舍五入180不过分吧', '在画了在画了', '垃圾', '垃圾游戏', '多好', '多少', '多谢', '大佬', '大佬们', '大家好', '大概', '大表哥', '天猫超市包邮', '太烧了', '太难了', '夹一下', '奖励你随机积分', '奶奶滴', '好了', '好像', '好像是', '好吧', '好奇怪', '好好好', '好家伙', '好滴', '好滴谢谢', '好玩', '好的', '好的谢谢', '好耶', '好贵', '妈的', '官方技术交流群', '官网', '害怕', '家人们', '家庭共享', '富哥v我50', '对吧', '对啊', '对对对', '对的', '小cai能拉到其他群吗', '小ddl', '少女绘画中', '就可以了', '就是', '就自动出来的', '就行了', '就这个', '巫师3', '差不多', '布洛芬', '帐号', '干活了', '应该', '应该可以', '应该是', '建议', '开心', '彳亍', '很多兄弟私信黄猫找东西', '很好', '忘了', '快点', '怎么', '怎么了', '怎么办', '怎么回事', '怎么搞', '怎么改', '怎么说', '怎么说呢', '怎么都在写webui', '思考', '总签到', '恭喜你签到成功', '想啥呢', '想要', '感觉', '感谢', '懂了', '成功为', '我不信', '我不知道', '我也想', '我也是', '我也有', '我也觉得', '我去', '我和你色色', '我喜欢你', '我在想', '我头发梳高点172没问题吧', '我就是', '我想问一下', '我操', '我擦', '我教你', '我测', '我玩', '我玩过', '我的好友码', '我的评价是', '我看看', '我知道', '我记得', '我试了', '我试试', '我谢谢你', '我超', '我问一下', '我阳了', '我靠', '战神4', '所以', '所以不能修改', '打不开', '打卡', '找不到了', '找不到的再来群里问问大佬', '抽中了你', '拍2件', '拜拜', '拿王者和只狼比', '挺好的', '捞捞', '提取码', '搞明白了', '撤回', '改了', '救命', '无慈悲', '无所谓', '早上好', '是不是', '是吗', '是吧', '是呢', '是啊', '是啥', '是嘛', '是的', '是要做任务开启地图吗', '是这样的', '显卡', '晚安', '最最新捡漏商城', '有人吗', '有人玩muck吗', '有人玩僵尸毁灭工程吗', '有人玩吗', '有人玩脱逃者2吗', '有人玩英灵神殿吗', '有人联机杀戮尖塔吗', '有啊', '有没有一种可能', '有没有可能', '有道理', '有钱', '朋友们', '服了', '本月签到', '本次签到获得积分', '本群是steam游戏群', '本群积分龙虎榜', '来了', '来吧', '来呗', '来来来', '来自群管理员', '查看积分', '桃李食品旗舰店', '棍棍', '森林', '森林之子', '欢迎', '欢迎加入', '正常', '正确的', '死了', '每天只能签到一次计算积分', '比c', '比如我就不会', '比如找耳机', '求pubg的高玩带', '求生之路2三缺一', '没了', '没事', '没事没事', '没人玩', '没办法', '没必要', '没意思', '没救了', '没有', '没有吧', '没玩过', '没用', '没看懂', '没记错的话', '没钱', '没问题', '泰拉瑞亚', '消逝的光芒', '滚去学习', '点我', '点过', '無敵の美秒女爾金', '然后', '然后再单独退款凑单商品', '牙刷2支', '牛啊', '牛逼', '物理化学一人', '特殊时期', '独立包装', '猫人', '现在你的积分是', '现在共有积分', '现货', '用户', '由于你聊天时被系统随机抽奖系统', '男的', '百度', '的哦', '的确', '的编辑', '直接', '直接点开下面蓝色链接', '直接点我', '看不懂', '看到了', '看看', '看看下面', '看见没有', '真寻立大功', '真的', '真的假的', '真的吗', '确信', '确实', '离谱', '积分', '积分排行', '积极发言', '稍等', '穿的显高点', '立了', '笑死', '笑死了', '笑死我了', '等一下', '等下', '等我给你画一幅', '等等', '签到', '算了', '算了吧', '管理', '素质有待降低', '细说', '给我积分', '维护良好的聊天环境与开黑环境', '美团每日补贴', '羡慕', '群主', '群友攻击性真强', '群里消杀', '翻译', '翻译器是个好东西', '老婆', '老实说', '而且', '耳机', '聊天好难', '聊游戏', '能啊', '英语一人', '荒野大镖客2', '虽然但是', '行吧', '表情', '让一让啊', '设计主存地址格式', '设计规范', '评论里发id', '话说', '语音', '说实话', '诶呦', '请务必仔细阅读群置顶公告哦', '请大家平日文明发言', '请期待后续版本', '请畅所欲言', '请私聊使用', '请问一下', '谁有办法啊', '谢谢', '谢谢你', '谢谢啦', '谢谢大佬', '谢谢大佬们', '谢谢谢谢', '踢了', '蹲波steam好友', '转发多条消息', '输入', '运费', '还好', '还是不行', '还有', '还没打开', '还行吧', '这个', '这个吗', '这个好', '这么说', '这是什么', '这是啥', '这样吗', '这样啊', '这正是我的论文需要的', '这里是星际拓荒讨论群', '进行安装', '逆天', '那个', '那你加油', '那没事了', '重复签到无积分', '链接', '错误的', '问一下', '闲聊群数量比我账号数都多', '队长', '阳了', '阿这', '阿里健康大药房', '除非你发给我看', '随便吧', '难受', '难蚌', '雀食', '领券', '领券加车1件', '领券后', '飞机', '饥荒', '饿了', '香港还是北美', '高跟鞋增加5厘米没问题吧', '鬼脸', '鹅鸭杀', '鹅鸭杀房间hy16jtn', '鹅鹅鹅', '麻了']\n"
     ]
    },
    {
     "name": "stderr",
     "output_type": "stream",
     "text": [
      "D:\\Anaconda3\\lib\\site-packages\\sklearn\\utils\\deprecation.py:87: FutureWarning: Function get_feature_names is deprecated; get_feature_names is deprecated in 1.0 and will be removed in 1.2. Please use get_feature_names_out instead.\n",
      "  warnings.warn(msg, category=FutureWarning)\n"
     ]
    }
   ],
   "source": [
    "# 1000 个特征\n",
    "vectorizer = CountVectorizer(max_features=1000)\n",
    "tf_idf_transformer = TfidfTransformer()\n",
    "tfidf = tf_idf_transformer.fit_transform(vectorizer.fit_transform(words))\n",
    "print(vectorizer.get_feature_names())"
   ]
  },
  {
   "cell_type": "markdown",
   "metadata": {
    "pycharm": {
     "name": "#%% md\n"
    }
   },
   "source": [
    "K-means 聚类"
   ]
  },
  {
   "cell_type": "code",
   "execution_count": 4,
   "outputs": [],
   "source": [
    "def test_k():\n",
    "    ks = []\n",
    "    scores = []\n",
    "    for i in range(2, 50):\n",
    "        print(f'k = {i}')\n",
    "        kmean = KMeans(n_clusters=i, init='k-means++')\n",
    "        kmean.fit(tfidf)\n",
    "        km.predict(tfidf)\n",
    "        s = -km.score(tfidf) / len(words)\n",
    "        scores.append(s)\n",
    "        ks.append(i)\n",
    "\n",
    "    plt.plot(ks, scores, label=\"error\", color=\"red\", linewidth=1)\n",
    "    plt.xlabel(\"n_features\") # K值\n",
    "    plt.ylabel(\"error\")\n",
    "    plt.legend()\n",
    "    plt.show()\n",
    "# test_k()"
   ],
   "metadata": {
    "collapsed": false,
    "pycharm": {
     "name": "#%%\n"
    }
   }
  },
  {
   "cell_type": "code",
   "execution_count": 5,
   "metadata": {
    "pycharm": {
     "name": "#%%\n"
    }
   },
   "outputs": [
    {
     "name": "stdout",
     "output_type": "stream",
     "text": [
      "0.103530421930071\n"
     ]
    },
    {
     "data": {
      "text/plain": "                0        1           2           3  4  \\\n16891  1568771521    23080  1002075454  2381952933  0   \n8357    885374762  2096689   768887710  1185285105  0   \n28861  -326359678  1356320    45855966  2827235303  0   \n21439  2146009248  1355233    45855966   877617681  0   \n23042  1741940049   788784   480882345    34064470  0   \n...           ...      ...         ...         ... ..   \n10758    64453128   295420   850068109  2869117323  0   \n10757  1361482095   295419   850068109  2629557192  0   \n10756   639738361   295418   850068109  2986227856  0   \n10755 -1231111064   295417   850068109  1195818266  0   \n31475  1882752036   287942   479768314  1145130120  0   \n\n                                                       5           6  cluster  \n16891                                                 大佬  1671379991       24  \n8357                            [CQ:at,qq=1796031384] 大佬  1670935298       24  \n28861                           [CQ:at,qq=2920035239] 大佬  1671522821       24  \n21439  [CQ:reply,id=-1847074420][CQ:at,qq=308710940] ...  1671447230       24  \n23042                                     来个c++大佬 帮我做个实验  1671457422       24  \n...                                                  ...         ...      ...  \n10758                                            搞点副业玩玩嘛  1670945102        0  \n10757  [CQ:image,file=19d5370c35587247d12036e67c221fd...  1670945097        0  \n10756                                      干十多年 得场病 十年白干  1670945096        0  \n10755  [CQ:image,file=86dddfe145a656949c4eb66d41ade42...  1670945086        0  \n31475                                          牛不是有狂暴被动嘛  1671629593        0  \n\n[31476 rows x 8 columns]",
      "text/html": "<div>\n<style scoped>\n    .dataframe tbody tr th:only-of-type {\n        vertical-align: middle;\n    }\n\n    .dataframe tbody tr th {\n        vertical-align: top;\n    }\n\n    .dataframe thead th {\n        text-align: right;\n    }\n</style>\n<table border=\"1\" class=\"dataframe\">\n  <thead>\n    <tr style=\"text-align: right;\">\n      <th></th>\n      <th>0</th>\n      <th>1</th>\n      <th>2</th>\n      <th>3</th>\n      <th>4</th>\n      <th>5</th>\n      <th>6</th>\n      <th>cluster</th>\n    </tr>\n  </thead>\n  <tbody>\n    <tr>\n      <th>16891</th>\n      <td>1568771521</td>\n      <td>23080</td>\n      <td>1002075454</td>\n      <td>2381952933</td>\n      <td>0</td>\n      <td>大佬</td>\n      <td>1671379991</td>\n      <td>24</td>\n    </tr>\n    <tr>\n      <th>8357</th>\n      <td>885374762</td>\n      <td>2096689</td>\n      <td>768887710</td>\n      <td>1185285105</td>\n      <td>0</td>\n      <td>[CQ:at,qq=1796031384] 大佬</td>\n      <td>1670935298</td>\n      <td>24</td>\n    </tr>\n    <tr>\n      <th>28861</th>\n      <td>-326359678</td>\n      <td>1356320</td>\n      <td>45855966</td>\n      <td>2827235303</td>\n      <td>0</td>\n      <td>[CQ:at,qq=2920035239] 大佬</td>\n      <td>1671522821</td>\n      <td>24</td>\n    </tr>\n    <tr>\n      <th>21439</th>\n      <td>2146009248</td>\n      <td>1355233</td>\n      <td>45855966</td>\n      <td>877617681</td>\n      <td>0</td>\n      <td>[CQ:reply,id=-1847074420][CQ:at,qq=308710940] ...</td>\n      <td>1671447230</td>\n      <td>24</td>\n    </tr>\n    <tr>\n      <th>23042</th>\n      <td>1741940049</td>\n      <td>788784</td>\n      <td>480882345</td>\n      <td>34064470</td>\n      <td>0</td>\n      <td>来个c++大佬 帮我做个实验</td>\n      <td>1671457422</td>\n      <td>24</td>\n    </tr>\n    <tr>\n      <th>...</th>\n      <td>...</td>\n      <td>...</td>\n      <td>...</td>\n      <td>...</td>\n      <td>...</td>\n      <td>...</td>\n      <td>...</td>\n      <td>...</td>\n    </tr>\n    <tr>\n      <th>10758</th>\n      <td>64453128</td>\n      <td>295420</td>\n      <td>850068109</td>\n      <td>2869117323</td>\n      <td>0</td>\n      <td>搞点副业玩玩嘛</td>\n      <td>1670945102</td>\n      <td>0</td>\n    </tr>\n    <tr>\n      <th>10757</th>\n      <td>1361482095</td>\n      <td>295419</td>\n      <td>850068109</td>\n      <td>2629557192</td>\n      <td>0</td>\n      <td>[CQ:image,file=19d5370c35587247d12036e67c221fd...</td>\n      <td>1670945097</td>\n      <td>0</td>\n    </tr>\n    <tr>\n      <th>10756</th>\n      <td>639738361</td>\n      <td>295418</td>\n      <td>850068109</td>\n      <td>2986227856</td>\n      <td>0</td>\n      <td>干十多年 得场病 十年白干</td>\n      <td>1670945096</td>\n      <td>0</td>\n    </tr>\n    <tr>\n      <th>10755</th>\n      <td>-1231111064</td>\n      <td>295417</td>\n      <td>850068109</td>\n      <td>1195818266</td>\n      <td>0</td>\n      <td>[CQ:image,file=86dddfe145a656949c4eb66d41ade42...</td>\n      <td>1670945086</td>\n      <td>0</td>\n    </tr>\n    <tr>\n      <th>31475</th>\n      <td>1882752036</td>\n      <td>287942</td>\n      <td>479768314</td>\n      <td>1145130120</td>\n      <td>0</td>\n      <td>牛不是有狂暴被动嘛</td>\n      <td>1671629593</td>\n      <td>0</td>\n    </tr>\n  </tbody>\n</table>\n<p>31476 rows × 8 columns</p>\n</div>"
     },
     "execution_count": 5,
     "metadata": {},
     "output_type": "execute_result"
    }
   ],
   "source": [
    "km = KMeans(n_clusters=25, init='k-means++')\n",
    "km.fit(tfidf)\n",
    "km.predict(tfidf)\n",
    "score = -km.score(tfidf) / len(words)\n",
    "print(score)\n",
    "messages['cluster'] = km.labels_\n",
    "messages.sort_values(by='cluster', ascending=False)"
   ]
  },
  {
   "cell_type": "code",
   "execution_count": 8,
   "outputs": [
    {
     "name": "stdout",
     "output_type": "stream",
     "text": [
      "['01', '02', '063', '11', '12', '123', '123456', '13', '15', '16', '17', '21', '22', '23', '233', '24', '27', '28', '31', '33', '37', '404', '86', '97', 'aa', 'aaron', 'abc', 'abyss', 'ac', 'agoni', 'ai', 'aiq', 'air', 'alan', 'aldonza', 'alex', 'alien', 'all', 'allen', 'alone', 'alpha', 'am', 'ambition', 'amo', 'amy', 'an', 'and', 'andy', 'angel', 'anonymous', 'answer', 'apple', 'aray', 'artless', 'as', 'atcg', 'atlas', 'au', 'augenstern', 'aurora', 'avalon', 'avond', 'baby', 'bad', 'bailanxiaozi', 'banana', 'be', 'bear', 'beard', 'ben', 'best', 'betty', 'black', 'blue', 'bob', 'boom', 'boy', 'brilliance', 'bucmer', 'bullet', 'bunny', 'by', 'caesar', 'can', 'candy', 'captain', 'care', 'caroline', 'carpe', 'carpediem', 'cat', 'catz', 'cc', 'ccxxxi', 'cd', 'cecilia', 'censored', 'chaos', 'charles', 'charon', 'chen', 'cherish', 'cherry', 'china', 'chris', 'chromatica', 'chy', 'cici', 'cirdes', 'cloud', 'clown', 'coco', 'code', 'coisini', 'cola', 'cold', 'com', 'confetti', 'creeper', 'crush', 'crystal', 'curry', 'cx330', 'cy', 'da', 'daisy', 'dan', 'daniel', 'dark', 'david', 'dawn', 'day', 'daydreamer', 'ddd', 'de', 'delete', 'demon', 'destiny', 'devil', 'diem', 'dj', 'dmc', 'do', 'don', 'dr', 'dream', 'dreamer', 'echo', 'eclipse', 'eight', 'el', 'eliauk', 'emmm', 'en', 'epiphany', 'er', 'eric', 'ernst', 'error', 'erwin', 'et', 'eternal', 'eternity', 'ethan', 'ethereal', 'euphoria', 'eureka', 'everglow', 'exe', 'faith', 'fantasy', 'felix', 'fighting', 'fine', 'fish', 'flame', 'flamingo', 'flechazo', 'flipped', 'fly', 'fool', 'for', 'forever', 'found', 'frahg', 'francis', 'frank', 'free', 'freedom', 'frog', 'frábær', 'funny', 'future', 'galaxy', 'gentlecold', 'gesususu', 'gg', 'gggreen', 'ghost', 'gin', 'girl', 'give', 'go', 'god', 'golden', 'good', 'green', 'guo', 'gypsophila', 'habsburg', 'haha', 'hahhhnxsm', 'han', 'happiness', 'happy', 'hard', 'harry', 'heart', 'hello', 'her', 'hey', 'hf', 'hi', 'hiddlesloki', 'ho', 'hollow', 'hope', 'horizon', 'hot', 'hy', 'ian', 'ice', 'icebear', 'id', 'if', 'ii', 'iii', 'illusion', 'im', 'in', 'infinite', 'ing', 'insane', 'int', 'iraina', 'iris', 'is', 'it', 'jack', 'james', 'jason', 'java', 'jay', 'je', 'jennie', 'jenny', 'jerry', 'jie', 'jj', 'jo', 'john', 'joker', 'jsdhwdmax', 'jump', 'june', 'just', 'ka', 'kaka', 'kanon', 'karl', 'keep', 'kevin', 'kiki', 'kilig', 'king', 'kirito', 'kiss', 'kk', 'koi', 'komorebi', 'kwwm', 'l1ma', 'la', 'lan', 'le', 'lee', 'lei', 'lemon', 'leo', 'leon', 'leonardo', 'leooooooo啊', 'leslie', 'let', 'levi', 'li', 'lie', 'life', 'light', 'like', 'lil', 'lily', 'lin', 'lionel', 'lisa', 'little', 'liu', 'll', 'lll', 'loser', 'lost', 'love', 'lucifer', 'lucky', 'ludwig', 'lumos', 'lvzhipin', 'ma', 'magnolia', 'man', 'manchi', 'maple', 'mark', 'mars', 'master', 'matcha', 'mato', 'max', 'maxchennnn', 'may', 'mbsy', 'me', 'meaudes', 'mellifluous', 'melody', 'memory', 'meng', 'mercury', 'merlin', 'messi', 'mg', 'mi', 'mia', 'mie', 'mike', 'ming', 'miracle', 'miraitowa', 'miss', 'mm', 'mo', 'monster', 'moon', 'moonlight', 'more', 'morii', 'morning', 'mr', 'murph', 'my', 'mångata', 'na', 'naixekil', 'nefelibata', 'never', 'nick', 'night', 'nimo', 'nn', 'no', 'not', 'nothing', 'npc', 'null', 'nuyoah', 'o_o', 'of', 'oh', 'olivia', 'on', 'once', 'one', 'only', 'orange', 'orion', 'out', 'ovo', 'oxygen', 'panda', 'paplet', 'pearl', 'peter', 'petrichor', 'phantom', 'phoenix', 'pink', 'planck', 'pluto', 'polaris', 'pop', 'potato', 'pure', 'qaq', 'qq', 'queen', 'q群管家', 'rain', 'rainbow', 'random', 'raven', 'ray', 're', 'red', 'redamancy', 'regen', 'richard', 'rick', 'right', 'rose', 'rua', 'ruler', 'sa', 'sakura', 'sam', 'sandy', 'say', 'sea', 'sean', 'serein', 'serendipity', 'seven', 'shame', 'shimiunique', 'shine', 'shirley', 'shmily', 'silver', 'simple', 'sirius', 'sky', 'small', 'smile', 'snow', 'sober', 'soleil', 'solo', 'some', 'soul', 'spring', 'sss', 'star', 'stars', 'stay', 'sternstunde', 'steven', 'striker', 'su', 'summer', 'sun', 'sunday', 'sunny', 'sunshine', 'super', 'sweet', 'sword', 'system', 'tang', 'te', 'the', 'tiamo', 'tiger', 'time', 'tiám', 'to', 'today', 'token', 'tom', 'tomorrow', 'too', 'touch', 'true', 'try', 'tt', 'twinkle', 'ty', 'töframaður', 'un', 'unicorn', 'uniecho1', 'up', 'ustinian', 'van', 'vanish', 've', 'vettel', 'victor', 'vivian', 'vv', 'wall', 'wang', 'water', 'way', 'wby', 'well', 'weng', 'what', 'white', 'who', 'why', 'william', 'windy', 'world', 'wu', 'www', 'xavier', 'xi', 'xin', 'xu', 'xuan', 'xw', 'xwc', 'xx', 'xxx', 'xxxx', 'xy', 'yan', 'yang', 'yc', 'yeah', 'yee', 'yes', 'yeseoo', 'yhzx233', 'ylp', 'yoki', 'yolo', 'you', 'young', 'your', 'youth', 'yoyo', 'yrainy', 'ytan', 'yu', 'yui', 'yuki', 'yy', 'yz', 'zachary', 'zc', 'zero', 'zh', 'zhang', 'zhao', 'zhu', 'zoe', 'zxy', 'zy', 'zz', 'zzx', 'zzz', 'zzzz', 'ÿā', 'ᝰꫛꪮꪮꫜ', 'ᝰꫛꫀꪝ', 'ℳ๓', 'ベ断桥烟雨ミ', 'ㅤㅤ', 'ㅤㅤㅤ', 'ㅤㅤㅤㅤ', 'ㅤㅤㅤㅤㅤㅤㅤㅤ', '一二三', '一人食', '一只跳跳虎', '一叶知秋', '一叶逡巡', '一生好梦', '七七', '七月', '上善若水', '不吃', '不好朋友', '不思鱼', '不是山谷', '不瘦回100斤不改名', '不语', '与德芙签字画押', '与风行', '且听风吟', '乐多', '乐霁', '九天', '乳酸君', '了了', '争分夺秒', '二三', '二人', '二十', '亐㔓', '云淡风轻', '五亿个小铃铛', '五行缺钱', '人生', '人生若只如初见', '仰望星空', '企鹅', '伍玖', '似水流年', '余生', '余笙', '佚名', '你好', '你是小猪吧', '你的名字', '倦梦还', '儒艮', '先生', '兜兜', '八九', '六六', '养乐多', '冇忒恩', '决里里ᴸⁱ', '凡草旁的猫', '出带问题', '初三', '初心', '别来无恙', '别睡太晚', '加油', '勇敢的心', '包子', '北冥有鱼', '北极星', '北长尾山雀路人粉', '十一', '十三', '十二', '十六', '十点', '半夏', '半夏之半', '南山', '南极熊', '南柯一梦', '卡布琪露诺', '原野', '叫我桌桌就好', '叫我雪朔吧', '可乐', '可达鸭', '史锐阳', '叶子', '吃猫的鱼', '同乐', '向日葵', '向死而生', '君の名は', '听风', '呵呵', '和你', '咕咕咕', '咖啡', '咸鱼', '哈哈', '哈哈哈', '哒哒', '啊啊啊啊黄梓豪', '啦啦啦', '喵喵', '喵喵喵', '嗯哼', '嗷呜', '嘟嘟', '嘻嘻', '嘿嘿', '回忆', '土豆', '在路上', '在隐身', '地平线', '城中人', '墨染', '墨楓逸尘', '壳聚糖', '壹壹張', '夏天', '夏末秋凉', '夏至', '夕沅', '夕莫离', '夕阳', '多唸書bot', '大个核桃', '大姓男子', '大白', '大雾偏爱黎明', '大魔王', '大鱼', '大鹅炖芝士', '天冬', '天天向上', '天涯', '天空', '天道酬勤', '太阳', '奋斗', '好好', '好好学习', '好想变成一只猫喵喵喵喵喵', '好想多睡一天', '如是我闻', '妖刀万华', '娅托克丝', '子不语', '字字锦', '存在', '守望者', '安好', '安然', '安生', '安逸', '安静', '宣茉', '宵夜不吃宵夜', '寒方', '寒臬三少', '寒风', '寶貝', '对方正在输入中', '小七', '小仙女', '小冰', '小宇宙', '小小', '小心超人', '小新', '小明', '小星星', '小燕子', '小白', '小米', '小羊咩mie', '小虎', '小陈', '小鱼', '小鱼儿', '小鱼干', '小鳥遊智乃', '小黑', '山海', '山顶洞人', '差感', '希望', '年年', '幸福', '廾匸', '开心', '张三', '彩虹桥', '影子', '彼岸', '往事如风', '往事随风', '微光', '微尘', '微笑', '德玛西亚蛮王怒气冲撞', '心之所向', '心想事成', '忆苦', '快乐', '快乐每一天', '怡宝自由果体', '恋殇', '恐怖蘑菇人', '想念那一抹阳光', '愚者', '憨憨', '我与春风皆过客', '我是双羊座', '打烊', '执念', '扬帆远航', '抖书包', '拾年', '拾柒', '挽风', '探贾贾', '搁浅', '摸了', '故作镇定', '故渊', '故里', '无名', '无寒有耳', '无忧', '无聊', '无聊の人', '无趣', '无问西东', '早睡早起', '时空', '明前奶绿', '明天', '明月', '明月清风', '星夜', '星尘', '星星', '星梦', '星河', '星空', '星辰', '星辰大海', '春日和', '昳澄', '昵称', '晚安', '晨曦', '晴天', '暖阳', '月亮', '月徊', '木头人', '木奇', '木木', '未央', '未来', '未知', '李芮婕', '東雲', '枫叶', '某某', '柚子', '柠檬', '查无此人', '栀子花', '桥北', '梦与梦中不再有梦', '梦幻', '梦里不知身是客', '梧桐', '橘子', '橙子', '橙橙', '正在缓冲99', '殇ベ', '毛毛', '气球果', '水墨流年', '江上舟摇', '江离', '沉默', '没头脑', '流云', '流尘', '流年', '流星', '流沙', '浅笑', '浅笑心柔', '浮生若梦', '海绵宝宝', '海阔天空', '淡定', '淡然', '清晨', '清晨在这一刻', '清欢', '清风', '潇湘', '火炎焱燚', '灰太狼', '炳彩庚蕴', '炼心', '無用心', '焦糖沙琪瑪', '燃晚', '燕子', '爱你', '爱在西元前', '爱新觉罗', '牛奶', '猪猪', '猪猪侠', '献给阿尔吉侬的函数', '玛卡巴卡', '理鱼', '田鸡', '由远及近无限拉长', '略略略', '白夜', '白日梦想家', '白白', '白菜', '的兔', '皮卡丘', '盐焗冰柠', '盗火', '真相是假', '睡觉', '石头', '碎片', '祁岫尧', '祝好', '神明', '秋雨', '程序猿', '稻草人', '空白', '空空', '章鱼大丸子', '竹子', '笙辞', '简单', '简简单单', '糖糖', '糖醋排骨', '红红火火恍恍惚惚', '终屿', '罐装', '美女', '翻盖', '自习听觉', '自渡', '自由', '自由如风', '至此', '艾伦', '苏答', '苹果香蕉梨加柠檬', '荣光', '落叶', '葡萄糖酸ca', '蒲公英', '蓝天', '蓝桉', '薄荷', '薛定谔', '薛定谔的猫', '藏进云朵里', '行云流水', '行者', '言水木', '认真', '许嘉祺', '诗酒趁年华', '豆子', '豆豆', '走路太猫会摔跤', '起风了', '超自律', '跑路跑路', '路人', '辣鸡不是鸡', '过客', '连连', '述白', '迷茫', '迷語', '迷雾', '追梦', '追梦人', '逍遥', '透明代表我的心灵', '逐風', '遇见', '遗憾ঞ', '郑垚瑜', '郝小峰', '释怀', '里子', '野欲', '金刚不坏铁三娃', '长安', '长空', '长风', '闪蓝色的泡泡', '阳光', '阿七', '陰丹士林藍', '随缘', '随遇而安', '随风', '雪糕', '零度', '青春', '青柠', '青涩如你', '青青子衿', '青黛', '风云', '飞叶快刀', '骇人', '鱼丸', '鱼饼', '鲸落', '黑白', '눈_눈']\n"
     ]
    },
    {
     "name": "stderr",
     "output_type": "stream",
     "text": [
      "D:\\Anaconda3\\lib\\site-packages\\sklearn\\utils\\deprecation.py:87: FutureWarning: Function get_feature_names is deprecated; get_feature_names is deprecated in 1.0 and will be removed in 1.2. Please use get_feature_names_out instead.\n",
      "  warnings.warn(msg, category=FutureWarning)\n"
     ]
    }
   ],
   "source": [
    "nickname = []\n",
    "\n",
    "for member in members.values:\n",
    "    nickname.append(member[2])\n",
    "\n",
    "# 1000 个特征\n",
    "vectorizer = CountVectorizer(max_features=1000)\n",
    "tf_idf_transformer = TfidfTransformer()\n",
    "tfidf = tf_idf_transformer.fit_transform(vectorizer.fit_transform(nickname))\n",
    "print(vectorizer.get_feature_names())"
   ],
   "metadata": {
    "collapsed": false,
    "pycharm": {
     "name": "#%%\n"
    }
   }
  },
  {
   "cell_type": "code",
   "execution_count": 9,
   "outputs": [
    {
     "name": "stdout",
     "output_type": "stream",
     "text": [
      "0.1615294788313016\n"
     ]
    },
    {
     "data": {
      "text/plain": "               0           1               2                    3        4  \\\n39958  697310792  3307382507            Red.           21-美术学-red   female   \n23346  980866658   904369283     Red Diamond                          male   \n39800  697310792  3077934090    ❤️ Red Panda                 21中文   female   \n35429  768887710  1373038871       Junis RED  Junis Red（学生，潜水，勿踢）     male   \n15415   45855966   805681108        Red neck                          male   \n...          ...         ...             ...                  ...      ...   \n13878  680405365  1773042577              定栌              19数学zhm   female   \n13879  680405365  1776203483  Antoniaaaaaaaa          20.5-地科-LCL   female   \n13880  680405365  1822331479              小庄            20-数学-zqy     male   \n13881  680405365  1837174617     反正也没人在乎你不是吗             19嘤语akey  unknown   \n41351  479768314  1145130120           XcZaS                          male   \n\n                5       6  7           8  cluster  \n39958  1626699322  member  0  1665066469       24  \n23346  1667305104  member  0  1667305104       24  \n39800  1625625232  member  0  1663079292       24  \n35429  1662883919  member  0  1662883919       24  \n15415  1662539358  member  0  1666241265       24  \n...           ...     ... ..         ...      ...  \n13878  1608689992  member  0  1608689992        0  \n13879  1608694730  member  0  1631842480        0  \n13880  1609080421  member  0  1656323003        0  \n13881  1608689673  member  0  1670553621        0  \n41351  1670929331  member  0  1671628867        0  \n\n[41352 rows x 10 columns]",
      "text/html": "<div>\n<style scoped>\n    .dataframe tbody tr th:only-of-type {\n        vertical-align: middle;\n    }\n\n    .dataframe tbody tr th {\n        vertical-align: top;\n    }\n\n    .dataframe thead th {\n        text-align: right;\n    }\n</style>\n<table border=\"1\" class=\"dataframe\">\n  <thead>\n    <tr style=\"text-align: right;\">\n      <th></th>\n      <th>0</th>\n      <th>1</th>\n      <th>2</th>\n      <th>3</th>\n      <th>4</th>\n      <th>5</th>\n      <th>6</th>\n      <th>7</th>\n      <th>8</th>\n      <th>cluster</th>\n    </tr>\n  </thead>\n  <tbody>\n    <tr>\n      <th>39958</th>\n      <td>697310792</td>\n      <td>3307382507</td>\n      <td>Red.</td>\n      <td>21-美术学-red</td>\n      <td>female</td>\n      <td>1626699322</td>\n      <td>member</td>\n      <td>0</td>\n      <td>1665066469</td>\n      <td>24</td>\n    </tr>\n    <tr>\n      <th>23346</th>\n      <td>980866658</td>\n      <td>904369283</td>\n      <td>Red Diamond</td>\n      <td></td>\n      <td>male</td>\n      <td>1667305104</td>\n      <td>member</td>\n      <td>0</td>\n      <td>1667305104</td>\n      <td>24</td>\n    </tr>\n    <tr>\n      <th>39800</th>\n      <td>697310792</td>\n      <td>3077934090</td>\n      <td>❤️ Red Panda</td>\n      <td>21中文</td>\n      <td>female</td>\n      <td>1625625232</td>\n      <td>member</td>\n      <td>0</td>\n      <td>1663079292</td>\n      <td>24</td>\n    </tr>\n    <tr>\n      <th>35429</th>\n      <td>768887710</td>\n      <td>1373038871</td>\n      <td>Junis RED</td>\n      <td>Junis Red（学生，潜水，勿踢）</td>\n      <td>male</td>\n      <td>1662883919</td>\n      <td>member</td>\n      <td>0</td>\n      <td>1662883919</td>\n      <td>24</td>\n    </tr>\n    <tr>\n      <th>15415</th>\n      <td>45855966</td>\n      <td>805681108</td>\n      <td>Red neck</td>\n      <td></td>\n      <td>male</td>\n      <td>1662539358</td>\n      <td>member</td>\n      <td>0</td>\n      <td>1666241265</td>\n      <td>24</td>\n    </tr>\n    <tr>\n      <th>...</th>\n      <td>...</td>\n      <td>...</td>\n      <td>...</td>\n      <td>...</td>\n      <td>...</td>\n      <td>...</td>\n      <td>...</td>\n      <td>...</td>\n      <td>...</td>\n      <td>...</td>\n    </tr>\n    <tr>\n      <th>13878</th>\n      <td>680405365</td>\n      <td>1773042577</td>\n      <td>定栌</td>\n      <td>19数学zhm</td>\n      <td>female</td>\n      <td>1608689992</td>\n      <td>member</td>\n      <td>0</td>\n      <td>1608689992</td>\n      <td>0</td>\n    </tr>\n    <tr>\n      <th>13879</th>\n      <td>680405365</td>\n      <td>1776203483</td>\n      <td>Antoniaaaaaaaa</td>\n      <td>20.5-地科-LCL</td>\n      <td>female</td>\n      <td>1608694730</td>\n      <td>member</td>\n      <td>0</td>\n      <td>1631842480</td>\n      <td>0</td>\n    </tr>\n    <tr>\n      <th>13880</th>\n      <td>680405365</td>\n      <td>1822331479</td>\n      <td>小庄</td>\n      <td>20-数学-zqy</td>\n      <td>male</td>\n      <td>1609080421</td>\n      <td>member</td>\n      <td>0</td>\n      <td>1656323003</td>\n      <td>0</td>\n    </tr>\n    <tr>\n      <th>13881</th>\n      <td>680405365</td>\n      <td>1837174617</td>\n      <td>反正也没人在乎你不是吗</td>\n      <td>19嘤语akey</td>\n      <td>unknown</td>\n      <td>1608689673</td>\n      <td>member</td>\n      <td>0</td>\n      <td>1670553621</td>\n      <td>0</td>\n    </tr>\n    <tr>\n      <th>41351</th>\n      <td>479768314</td>\n      <td>1145130120</td>\n      <td>XcZaS</td>\n      <td></td>\n      <td>male</td>\n      <td>1670929331</td>\n      <td>member</td>\n      <td>0</td>\n      <td>1671628867</td>\n      <td>0</td>\n    </tr>\n  </tbody>\n</table>\n<p>41352 rows × 10 columns</p>\n</div>"
     },
     "execution_count": 9,
     "metadata": {},
     "output_type": "execute_result"
    }
   ],
   "source": [
    "km.fit(tfidf)\n",
    "km.predict(tfidf)\n",
    "score = -km.score(tfidf) / len(words)\n",
    "print(score)\n",
    "members['cluster'] = km.labels_\n",
    "members.sort_values(by='cluster', ascending=False)"
   ],
   "metadata": {
    "collapsed": false,
    "pycharm": {
     "name": "#%%\n"
    }
   }
  }
 ],
 "metadata": {
  "hide_input": false,
  "kernelspec": {
   "display_name": "Python 3 (ipykernel)",
   "language": "python",
   "name": "python3"
  },
  "language_info": {
   "codemirror_mode": {
    "name": "ipython",
    "version": 3
   },
   "file_extension": ".py",
   "mimetype": "text/x-python",
   "name": "python",
   "nbconvert_exporter": "python",
   "pygments_lexer": "ipython3",
   "version": "3.9.12"
  }
 },
 "nbformat": 4,
 "nbformat_minor": 1
}